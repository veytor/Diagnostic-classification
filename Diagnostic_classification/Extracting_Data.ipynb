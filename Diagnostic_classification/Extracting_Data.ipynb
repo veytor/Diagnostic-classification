{
 "cells": [
  {
   "cell_type": "code",
   "execution_count": 13,
   "metadata": {},
   "outputs": [],
   "source": [
    "# 1. Obtención de datos. ¿Puedes llevar a cabo el proyecto con estos datos?\n",
    "# 2. Define tu hipótesis. ¿Qué piensas que puedes obtener de estos datos? ¿Qué vas a poder resolver? ¿Cómo lo vas a llevar a cabo? (**Fecha límite Viernes 4**)\n",
    "# 3. Preprocesado: obtén todos los datos de las diferentes fuentes que hayas utilizado, juntalos y ponlos en un formato entendible.\n",
    "# 4. Limpia los datos: transformaciones, duplicados, missings, columnas inútiles...\n",
    "# 5. Exploratorio: obtén todos los estadísticos y gráficos que necesites para entender bien tu dataset.\n",
    "# 6. Concluye con tu análisis si estabas o no en lo cierto acerca de tu planteamiento y tu hipótesis.\n",
    "# 7. (Bonus track). Crea un dashboard para representar tu análisis exploratorio.\n",
    "# 8. Documenta tu proyecto y súbelo a GitHub.\n",
    "\n",
    "# gasto hospital, numero hospitales, ranking, densidad población, bajas laborales."
   ]
  },
  {
   "cell_type": "code",
   "execution_count": 14,
   "metadata": {},
   "outputs": [],
   "source": [
    "#1. El proyecto se puede llevar a cabo con los datos obtenidos. Los datos obtenidos son de extensión nacional donde aporta información de altas y bajas.\n",
    "#2. Es posible que los datos obtenidos planteen la situación actual de salud naiconal. Teniendo en cuenta todas las variables disponibles.\n",
    "    # Es posible identificar por rangos de edad, sexo y enfermedad. De esta manera, podremos identificar cuáles son las causantes de ingresos en los hospitales .\n",
    "    # Los datos son de 2021\n"
   ]
  },
  {
   "cell_type": "code",
   "execution_count": 15,
   "metadata": {},
   "outputs": [],
   "source": [
    "import pandas as pd\n",
    "import matplotlib.pyplot as plt"
   ]
  },
  {
   "cell_type": "code",
   "execution_count": 16,
   "metadata": {},
   "outputs": [],
   "source": [
    "pd.set_option(\"display.max_colwidth\",None) # 50 is the default"
   ]
  },
  {
   "cell_type": "code",
   "execution_count": 17,
   "metadata": {},
   "outputs": [],
   "source": [
    "df1 = pd.read_csv(\"Data/Estancia_comunidades.csv\", sep = \"\\t\") # Leo el SCV "
   ]
  },
  {
   "cell_type": "code",
   "execution_count": 18,
   "metadata": {},
   "outputs": [
    {
     "data": {
      "text/html": [
       "<div>\n",
       "<style scoped>\n",
       "    .dataframe tbody tr th:only-of-type {\n",
       "        vertical-align: middle;\n",
       "    }\n",
       "\n",
       "    .dataframe tbody tr th {\n",
       "        vertical-align: top;\n",
       "    }\n",
       "\n",
       "    .dataframe thead th {\n",
       "        text-align: right;\n",
       "    }\n",
       "</style>\n",
       "<table border=\"1\" class=\"dataframe\">\n",
       "  <thead>\n",
       "    <tr style=\"text-align: right;\">\n",
       "      <th></th>\n",
       "      <th>Sexo</th>\n",
       "      <th>Diagnóstico principal (CIE10MC)</th>\n",
       "      <th>Total Nacional</th>\n",
       "      <th>Comunidades y Ciudades Autónomas</th>\n",
       "      <th>Provincias</th>\n",
       "      <th>Total</th>\n",
       "    </tr>\n",
       "  </thead>\n",
       "  <tbody>\n",
       "    <tr>\n",
       "      <th>0</th>\n",
       "      <td>Ambos sexos</td>\n",
       "      <td>TODAS LAS CAUSAS A00-Z99 (salvo los códigos V, W, X, Y)</td>\n",
       "      <td>TOTAL NACIONAL</td>\n",
       "      <td>NaN</td>\n",
       "      <td>NaN</td>\n",
       "      <td>39.584.782</td>\n",
       "    </tr>\n",
       "    <tr>\n",
       "      <th>1</th>\n",
       "      <td>Ambos sexos</td>\n",
       "      <td>TODAS LAS CAUSAS A00-Z99 (salvo los códigos V, W, X, Y)</td>\n",
       "      <td>TOTAL NACIONAL</td>\n",
       "      <td>ANDALUCÍA</td>\n",
       "      <td>NaN</td>\n",
       "      <td>4.761.302</td>\n",
       "    </tr>\n",
       "    <tr>\n",
       "      <th>2</th>\n",
       "      <td>Ambos sexos</td>\n",
       "      <td>TODAS LAS CAUSAS A00-Z99 (salvo los códigos V, W, X, Y)</td>\n",
       "      <td>TOTAL NACIONAL</td>\n",
       "      <td>ANDALUCÍA</td>\n",
       "      <td>Almería</td>\n",
       "      <td>375.821</td>\n",
       "    </tr>\n",
       "    <tr>\n",
       "      <th>3</th>\n",
       "      <td>Ambos sexos</td>\n",
       "      <td>TODAS LAS CAUSAS A00-Z99 (salvo los códigos V, W, X, Y)</td>\n",
       "      <td>TOTAL NACIONAL</td>\n",
       "      <td>ANDALUCÍA</td>\n",
       "      <td>Cádiz</td>\n",
       "      <td>736.773</td>\n",
       "    </tr>\n",
       "    <tr>\n",
       "      <th>4</th>\n",
       "      <td>Ambos sexos</td>\n",
       "      <td>TODAS LAS CAUSAS A00-Z99 (salvo los códigos V, W, X, Y)</td>\n",
       "      <td>TOTAL NACIONAL</td>\n",
       "      <td>ANDALUCÍA</td>\n",
       "      <td>Córdoba</td>\n",
       "      <td>426.425</td>\n",
       "    </tr>\n",
       "    <tr>\n",
       "      <th>...</th>\n",
       "      <td>...</td>\n",
       "      <td>...</td>\n",
       "      <td>...</td>\n",
       "      <td>...</td>\n",
       "      <td>...</td>\n",
       "      <td>...</td>\n",
       "    </tr>\n",
       "    <tr>\n",
       "      <th>28603</th>\n",
       "      <td>Mujeres</td>\n",
       "      <td>ALTAS SIN DIAGNÓSTICO</td>\n",
       "      <td>TOTAL NACIONAL</td>\n",
       "      <td>PAÍS VASCO</td>\n",
       "      <td>Gipuzkoa</td>\n",
       "      <td>..</td>\n",
       "    </tr>\n",
       "    <tr>\n",
       "      <th>28604</th>\n",
       "      <td>Mujeres</td>\n",
       "      <td>ALTAS SIN DIAGNÓSTICO</td>\n",
       "      <td>TOTAL NACIONAL</td>\n",
       "      <td>RIOJA, LA</td>\n",
       "      <td>NaN</td>\n",
       "      <td>49</td>\n",
       "    </tr>\n",
       "    <tr>\n",
       "      <th>28605</th>\n",
       "      <td>Mujeres</td>\n",
       "      <td>ALTAS SIN DIAGNÓSTICO</td>\n",
       "      <td>TOTAL NACIONAL</td>\n",
       "      <td>Ceuta</td>\n",
       "      <td>NaN</td>\n",
       "      <td>4</td>\n",
       "    </tr>\n",
       "    <tr>\n",
       "      <th>28606</th>\n",
       "      <td>Mujeres</td>\n",
       "      <td>ALTAS SIN DIAGNÓSTICO</td>\n",
       "      <td>TOTAL NACIONAL</td>\n",
       "      <td>Melilla</td>\n",
       "      <td>NaN</td>\n",
       "      <td>47</td>\n",
       "    </tr>\n",
       "    <tr>\n",
       "      <th>28607</th>\n",
       "      <td>Mujeres</td>\n",
       "      <td>ALTAS SIN DIAGNÓSTICO</td>\n",
       "      <td>Extranjero</td>\n",
       "      <td>NaN</td>\n",
       "      <td>NaN</td>\n",
       "      <td>101</td>\n",
       "    </tr>\n",
       "  </tbody>\n",
       "</table>\n",
       "<p>28608 rows × 6 columns</p>\n",
       "</div>"
      ],
      "text/plain": [
       "              Sexo                          Diagnóstico principal (CIE10MC)  \\\n",
       "0      Ambos sexos  TODAS LAS CAUSAS A00-Z99 (salvo los códigos V, W, X, Y)   \n",
       "1      Ambos sexos  TODAS LAS CAUSAS A00-Z99 (salvo los códigos V, W, X, Y)   \n",
       "2      Ambos sexos  TODAS LAS CAUSAS A00-Z99 (salvo los códigos V, W, X, Y)   \n",
       "3      Ambos sexos  TODAS LAS CAUSAS A00-Z99 (salvo los códigos V, W, X, Y)   \n",
       "4      Ambos sexos  TODAS LAS CAUSAS A00-Z99 (salvo los códigos V, W, X, Y)   \n",
       "...            ...                                                      ...   \n",
       "28603      Mujeres                                    ALTAS SIN DIAGNÓSTICO   \n",
       "28604      Mujeres                                    ALTAS SIN DIAGNÓSTICO   \n",
       "28605      Mujeres                                    ALTAS SIN DIAGNÓSTICO   \n",
       "28606      Mujeres                                    ALTAS SIN DIAGNÓSTICO   \n",
       "28607      Mujeres                                    ALTAS SIN DIAGNÓSTICO   \n",
       "\n",
       "       Total Nacional Comunidades y Ciudades Autónomas Provincias       Total  \n",
       "0      TOTAL NACIONAL                              NaN        NaN  39.584.782  \n",
       "1      TOTAL NACIONAL                        ANDALUCÍA        NaN   4.761.302  \n",
       "2      TOTAL NACIONAL                        ANDALUCÍA    Almería     375.821  \n",
       "3      TOTAL NACIONAL                        ANDALUCÍA      Cádiz     736.773  \n",
       "4      TOTAL NACIONAL                        ANDALUCÍA    Córdoba     426.425  \n",
       "...               ...                              ...        ...         ...  \n",
       "28603  TOTAL NACIONAL                       PAÍS VASCO   Gipuzkoa          ..  \n",
       "28604  TOTAL NACIONAL                        RIOJA, LA        NaN          49  \n",
       "28605  TOTAL NACIONAL                            Ceuta        NaN           4  \n",
       "28606  TOTAL NACIONAL                          Melilla        NaN          47  \n",
       "28607      Extranjero                              NaN        NaN         101  \n",
       "\n",
       "[28608 rows x 6 columns]"
      ]
     },
     "execution_count": 18,
     "metadata": {},
     "output_type": "execute_result"
    }
   ],
   "source": [
    "df1"
   ]
  },
  {
   "cell_type": "code",
   "execution_count": 19,
   "metadata": {},
   "outputs": [
    {
     "name": "stdout",
     "output_type": "stream",
     "text": [
      "<class 'pandas.core.frame.DataFrame'>\n",
      "RangeIndex: 28608 entries, 0 to 28607\n",
      "Data columns (total 6 columns):\n",
      " #   Column                            Non-Null Count  Dtype \n",
      "---  ------                            --------------  ----- \n",
      " 0   Sexo                              28608 non-null  object\n",
      " 1   Diagnóstico principal (CIE10MC)   28608 non-null  object\n",
      " 2   Total Nacional                    28608 non-null  object\n",
      " 3   Comunidades y Ciudades Autónomas  27714 non-null  object\n",
      " 4   Provincias                        19221 non-null  object\n",
      " 5   Total                             28608 non-null  object\n",
      "dtypes: object(6)\n",
      "memory usage: 1.3+ MB\n"
     ]
    }
   ],
   "source": [
    "df1.info() # Información general del DataFrame"
   ]
  },
  {
   "cell_type": "code",
   "execution_count": 20,
   "metadata": {},
   "outputs": [
    {
     "data": {
      "text/html": [
       "<div>\n",
       "<style scoped>\n",
       "    .dataframe tbody tr th:only-of-type {\n",
       "        vertical-align: middle;\n",
       "    }\n",
       "\n",
       "    .dataframe tbody tr th {\n",
       "        vertical-align: top;\n",
       "    }\n",
       "\n",
       "    .dataframe thead th {\n",
       "        text-align: right;\n",
       "    }\n",
       "</style>\n",
       "<table border=\"1\" class=\"dataframe\">\n",
       "  <thead>\n",
       "    <tr style=\"text-align: right;\">\n",
       "      <th></th>\n",
       "      <th>Sexo</th>\n",
       "      <th>Diagnóstico principal (CIE10MC)</th>\n",
       "      <th>Total Nacional</th>\n",
       "      <th>Comunidades y Ciudades Autónomas</th>\n",
       "      <th>Provincias</th>\n",
       "      <th>Total</th>\n",
       "    </tr>\n",
       "  </thead>\n",
       "  <tbody>\n",
       "    <tr>\n",
       "      <th>0</th>\n",
       "      <td>Ambos sexos</td>\n",
       "      <td>TODAS LAS CAUSAS A00-Z99 (salvo los códigos V, W, X, Y)</td>\n",
       "      <td>TOTAL NACIONAL</td>\n",
       "      <td>NaN</td>\n",
       "      <td>NaN</td>\n",
       "      <td>39.584.782</td>\n",
       "    </tr>\n",
       "    <tr>\n",
       "      <th>1</th>\n",
       "      <td>Ambos sexos</td>\n",
       "      <td>TODAS LAS CAUSAS A00-Z99 (salvo los códigos V, W, X, Y)</td>\n",
       "      <td>TOTAL NACIONAL</td>\n",
       "      <td>ANDALUCÍA</td>\n",
       "      <td>NaN</td>\n",
       "      <td>4.761.302</td>\n",
       "    </tr>\n",
       "    <tr>\n",
       "      <th>2</th>\n",
       "      <td>Ambos sexos</td>\n",
       "      <td>TODAS LAS CAUSAS A00-Z99 (salvo los códigos V, W, X, Y)</td>\n",
       "      <td>TOTAL NACIONAL</td>\n",
       "      <td>ANDALUCÍA</td>\n",
       "      <td>Almería</td>\n",
       "      <td>375.821</td>\n",
       "    </tr>\n",
       "    <tr>\n",
       "      <th>3</th>\n",
       "      <td>Ambos sexos</td>\n",
       "      <td>TODAS LAS CAUSAS A00-Z99 (salvo los códigos V, W, X, Y)</td>\n",
       "      <td>TOTAL NACIONAL</td>\n",
       "      <td>ANDALUCÍA</td>\n",
       "      <td>Cádiz</td>\n",
       "      <td>736.773</td>\n",
       "    </tr>\n",
       "    <tr>\n",
       "      <th>4</th>\n",
       "      <td>Ambos sexos</td>\n",
       "      <td>TODAS LAS CAUSAS A00-Z99 (salvo los códigos V, W, X, Y)</td>\n",
       "      <td>TOTAL NACIONAL</td>\n",
       "      <td>ANDALUCÍA</td>\n",
       "      <td>Córdoba</td>\n",
       "      <td>426.425</td>\n",
       "    </tr>\n",
       "    <tr>\n",
       "      <th>5</th>\n",
       "      <td>Ambos sexos</td>\n",
       "      <td>TODAS LAS CAUSAS A00-Z99 (salvo los códigos V, W, X, Y)</td>\n",
       "      <td>TOTAL NACIONAL</td>\n",
       "      <td>ANDALUCÍA</td>\n",
       "      <td>Granada</td>\n",
       "      <td>550.809</td>\n",
       "    </tr>\n",
       "    <tr>\n",
       "      <th>6</th>\n",
       "      <td>Ambos sexos</td>\n",
       "      <td>TODAS LAS CAUSAS A00-Z99 (salvo los códigos V, W, X, Y)</td>\n",
       "      <td>TOTAL NACIONAL</td>\n",
       "      <td>ANDALUCÍA</td>\n",
       "      <td>Huelva</td>\n",
       "      <td>301.444</td>\n",
       "    </tr>\n",
       "    <tr>\n",
       "      <th>7</th>\n",
       "      <td>Ambos sexos</td>\n",
       "      <td>TODAS LAS CAUSAS A00-Z99 (salvo los códigos V, W, X, Y)</td>\n",
       "      <td>TOTAL NACIONAL</td>\n",
       "      <td>ANDALUCÍA</td>\n",
       "      <td>Jaén</td>\n",
       "      <td>358.860</td>\n",
       "    </tr>\n",
       "    <tr>\n",
       "      <th>8</th>\n",
       "      <td>Ambos sexos</td>\n",
       "      <td>TODAS LAS CAUSAS A00-Z99 (salvo los códigos V, W, X, Y)</td>\n",
       "      <td>TOTAL NACIONAL</td>\n",
       "      <td>ANDALUCÍA</td>\n",
       "      <td>Málaga</td>\n",
       "      <td>969.035</td>\n",
       "    </tr>\n",
       "    <tr>\n",
       "      <th>9</th>\n",
       "      <td>Ambos sexos</td>\n",
       "      <td>TODAS LAS CAUSAS A00-Z99 (salvo los códigos V, W, X, Y)</td>\n",
       "      <td>TOTAL NACIONAL</td>\n",
       "      <td>ANDALUCÍA</td>\n",
       "      <td>Sevilla</td>\n",
       "      <td>1.042.134</td>\n",
       "    </tr>\n",
       "  </tbody>\n",
       "</table>\n",
       "</div>"
      ],
      "text/plain": [
       "          Sexo                          Diagnóstico principal (CIE10MC)  \\\n",
       "0  Ambos sexos  TODAS LAS CAUSAS A00-Z99 (salvo los códigos V, W, X, Y)   \n",
       "1  Ambos sexos  TODAS LAS CAUSAS A00-Z99 (salvo los códigos V, W, X, Y)   \n",
       "2  Ambos sexos  TODAS LAS CAUSAS A00-Z99 (salvo los códigos V, W, X, Y)   \n",
       "3  Ambos sexos  TODAS LAS CAUSAS A00-Z99 (salvo los códigos V, W, X, Y)   \n",
       "4  Ambos sexos  TODAS LAS CAUSAS A00-Z99 (salvo los códigos V, W, X, Y)   \n",
       "5  Ambos sexos  TODAS LAS CAUSAS A00-Z99 (salvo los códigos V, W, X, Y)   \n",
       "6  Ambos sexos  TODAS LAS CAUSAS A00-Z99 (salvo los códigos V, W, X, Y)   \n",
       "7  Ambos sexos  TODAS LAS CAUSAS A00-Z99 (salvo los códigos V, W, X, Y)   \n",
       "8  Ambos sexos  TODAS LAS CAUSAS A00-Z99 (salvo los códigos V, W, X, Y)   \n",
       "9  Ambos sexos  TODAS LAS CAUSAS A00-Z99 (salvo los códigos V, W, X, Y)   \n",
       "\n",
       "   Total Nacional Comunidades y Ciudades Autónomas Provincias       Total  \n",
       "0  TOTAL NACIONAL                              NaN        NaN  39.584.782  \n",
       "1  TOTAL NACIONAL                        ANDALUCÍA        NaN   4.761.302  \n",
       "2  TOTAL NACIONAL                        ANDALUCÍA    Almería     375.821  \n",
       "3  TOTAL NACIONAL                        ANDALUCÍA      Cádiz     736.773  \n",
       "4  TOTAL NACIONAL                        ANDALUCÍA    Córdoba     426.425  \n",
       "5  TOTAL NACIONAL                        ANDALUCÍA    Granada     550.809  \n",
       "6  TOTAL NACIONAL                        ANDALUCÍA     Huelva     301.444  \n",
       "7  TOTAL NACIONAL                        ANDALUCÍA       Jaén     358.860  \n",
       "8  TOTAL NACIONAL                        ANDALUCÍA     Málaga     969.035  \n",
       "9  TOTAL NACIONAL                        ANDALUCÍA    Sevilla   1.042.134  "
      ]
     },
     "execution_count": 20,
     "metadata": {},
     "output_type": "execute_result"
    }
   ],
   "source": [
    "df1.head(10) # 10 primeras posiciones del DataFrame"
   ]
  },
  {
   "cell_type": "markdown",
   "metadata": {},
   "source": [
    "# Web Scraping"
   ]
  },
  {
   "cell_type": "code",
   "execution_count": 21,
   "metadata": {},
   "outputs": [
    {
     "name": "stdout",
     "output_type": "stream",
     "text": [
      "Requirement already satisfied: pandas in /Users/victornebon/opt/anaconda3/lib/python3.9/site-packages (1.4.2)\n",
      "Requirement already satisfied: python-dateutil>=2.8.1 in /Users/victornebon/opt/anaconda3/lib/python3.9/site-packages (from pandas) (2.8.2)\n",
      "Requirement already satisfied: pytz>=2020.1 in /Users/victornebon/opt/anaconda3/lib/python3.9/site-packages (from pandas) (2021.3)\n",
      "Requirement already satisfied: numpy>=1.18.5 in /Users/victornebon/opt/anaconda3/lib/python3.9/site-packages (from pandas) (1.21.5)\n",
      "Requirement already satisfied: six>=1.5 in /Users/victornebon/opt/anaconda3/lib/python3.9/site-packages (from python-dateutil>=2.8.1->pandas) (1.16.0)\n"
     ]
    }
   ],
   "source": [
    "!pip install pandas"
   ]
  },
  {
   "cell_type": "code",
   "execution_count": 22,
   "metadata": {},
   "outputs": [
    {
     "name": "stdout",
     "output_type": "stream",
     "text": [
      "Requirement already satisfied: numpy in /Users/victornebon/opt/anaconda3/lib/python3.9/site-packages (1.21.5)\n"
     ]
    }
   ],
   "source": [
    "!pip install numpy"
   ]
  },
  {
   "cell_type": "code",
   "execution_count": 1,
   "metadata": {},
   "outputs": [],
   "source": [
    "from bs4 import BeautifulSoup as bs\n",
    "import requests\n",
    "import pandas as pd\n",
    "import numpy as np"
   ]
  },
  {
   "cell_type": "code",
   "execution_count": 2,
   "metadata": {},
   "outputs": [],
   "source": [
    "url = \"https://www.sanidad.gob.es/estadEstudios/sanidadDatos/tablas/tabla22.htm\"\n",
    "response = requests.get(url)"
   ]
  },
  {
   "cell_type": "code",
   "execution_count": 3,
   "metadata": {},
   "outputs": [
    {
     "name": "stdout",
     "output_type": "stream",
     "text": [
      "<Response [200]>\n"
     ]
    }
   ],
   "source": [
    "print(response) # Para saber si se ha guardado correctamente"
   ]
  },
  {
   "cell_type": "code",
   "execution_count": 4,
   "metadata": {},
   "outputs": [],
   "source": [
    "# Necesito el contenido HTML de la página web solicitada, así que como siguiente paso guardamos el contenido de la respuesta a html:\n",
    "\n",
    "html = response.content"
   ]
  },
  {
   "cell_type": "code",
   "execution_count": 5,
   "metadata": {},
   "outputs": [],
   "source": [
    "soup = bs(html, \"lxml\")"
   ]
  },
  {
   "cell_type": "code",
   "execution_count": 6,
   "metadata": {},
   "outputs": [],
   "source": [
    "tabla_values = soup.select(\"table td\") # Seleccion de elementos de la tabla"
   ]
  },
  {
   "cell_type": "code",
   "execution_count": 7,
   "metadata": {},
   "outputs": [],
   "source": [
    "tabla_comunidades = soup.select(\"table th\")[8:]"
   ]
  },
  {
   "cell_type": "code",
   "execution_count": 8,
   "metadata": {},
   "outputs": [],
   "source": [
    "clean_tabla_comunidades = []\n",
    "for i in tabla_comunidades:\n",
    "       clean_tabla_comunidades.append(i.get_text())"
   ]
  },
  {
   "cell_type": "code",
   "execution_count": 9,
   "metadata": {},
   "outputs": [
    {
     "data": {
      "text/plain": [
       "['Andalucía',\n",
       " 'Aragón',\n",
       " 'Asturias, Principado',\n",
       " 'Balears, Illes',\n",
       " 'Canarias',\n",
       " 'Cantabria',\n",
       " 'Castilla y León',\n",
       " 'Castilla-La Mancha',\n",
       " 'Cataluña',\n",
       " 'Comunitat Valenciana',\n",
       " 'Extremadura',\n",
       " 'Galicia',\n",
       " 'Madrid, Comunidad de',\n",
       " 'Murcia, Región de',\n",
       " 'Navarra, C. Foral de',\n",
       " 'País Vasco',\n",
       " 'Rioja, La',\n",
       " 'Ceuta y Melilla']"
      ]
     },
     "execution_count": 9,
     "metadata": {},
     "output_type": "execute_result"
    }
   ],
   "source": [
    "clean_tabla_comunidades"
   ]
  },
  {
   "cell_type": "code",
   "execution_count": 10,
   "metadata": {},
   "outputs": [],
   "source": [
    "hospitales_numero = []\n",
    "hospitales_camas = []\n",
    "hospitales_camas_habitantes = []"
   ]
  },
  {
   "cell_type": "code",
   "execution_count": 11,
   "metadata": {},
   "outputs": [],
   "source": [
    "for i in range(0, 108, 6):  # Elemento 0 de la lista, 114 es el tamaño de la tabla y 6 son los saltos del bucle (cada 6)\n",
    "    hospitales_numero.append(int(tabla_values[6 + i].get_text())) # Selecciono elemento 0 de la tabla\n",
    "    hospitales_camas.append(float(tabla_values[7 + i].get_text()))\n",
    "    hospitales_camas_habitantes.append(float(tabla_values[9 + i].get_text().replace(\",\",\".\")))"
   ]
  },
  {
   "cell_type": "code",
   "execution_count": 12,
   "metadata": {},
   "outputs": [
    {
     "data": {
      "text/plain": [
       "[50, 20, 12, 11, 12, 5, 16, 20, 157, 39, 12, 19, 37, 16, 6, 26, 6, 2]"
      ]
     },
     "execution_count": 12,
     "metadata": {},
     "output_type": "execute_result"
    }
   ],
   "source": [
    "hospitales_numero"
   ]
  },
  {
   "cell_type": "code",
   "execution_count": 13,
   "metadata": {},
   "outputs": [
    {
     "data": {
      "text/plain": [
       "[14.407,\n",
       " 4.091,\n",
       " 3.053,\n",
       " 2.251,\n",
       " 4.326,\n",
       " 1.502,\n",
       " 6.649,\n",
       " 4.497,\n",
       " 26.199,\n",
       " 10.43,\n",
       " 3.508,\n",
       " 7.653,\n",
       " 12.578,\n",
       " 3.503,\n",
       " 1.595,\n",
       " 6.042,\n",
       " 991.0,\n",
       " 341.0]"
      ]
     },
     "execution_count": 13,
     "metadata": {},
     "output_type": "execute_result"
    }
   ],
   "source": [
    "hospitales_camas"
   ]
  },
  {
   "cell_type": "code",
   "execution_count": 14,
   "metadata": {},
   "outputs": [
    {
     "data": {
      "text/plain": [
       "[1.7,\n",
       " 3.4,\n",
       " 3.2,\n",
       " 2.2,\n",
       " 2.1,\n",
       " 2.7,\n",
       " 3.1,\n",
       " 2.5,\n",
       " 3.7,\n",
       " 2.3,\n",
       " 3.5,\n",
       " 3.2,\n",
       " 2.1,\n",
       " 2.5,\n",
       " 2.7,\n",
       " 3.1,\n",
       " 3.2,\n",
       " 2.5]"
      ]
     },
     "execution_count": 14,
     "metadata": {},
     "output_type": "execute_result"
    }
   ],
   "source": [
    "hospitales_camas_habitantes"
   ]
  },
  {
   "cell_type": "code",
   "execution_count": 15,
   "metadata": {},
   "outputs": [],
   "source": [
    "dic_1 = {\"Comunidades autónomas\": clean_tabla_comunidades, \"Cantidad hospitales\" : hospitales_numero, \"Cantidad camas\" : hospitales_camas, \"Camas por habitantes\" : hospitales_camas_habitantes}"
   ]
  },
  {
   "cell_type": "markdown",
   "metadata": {},
   "source": []
  },
  {
   "cell_type": "code",
   "execution_count": 16,
   "metadata": {},
   "outputs": [],
   "source": [
    "df = pd.DataFrame(dic_1)"
   ]
  },
  {
   "cell_type": "code",
   "execution_count": 17,
   "metadata": {},
   "outputs": [
    {
     "data": {
      "text/html": [
       "<div>\n",
       "<style scoped>\n",
       "    .dataframe tbody tr th:only-of-type {\n",
       "        vertical-align: middle;\n",
       "    }\n",
       "\n",
       "    .dataframe tbody tr th {\n",
       "        vertical-align: top;\n",
       "    }\n",
       "\n",
       "    .dataframe thead th {\n",
       "        text-align: right;\n",
       "    }\n",
       "</style>\n",
       "<table border=\"1\" class=\"dataframe\">\n",
       "  <thead>\n",
       "    <tr style=\"text-align: right;\">\n",
       "      <th></th>\n",
       "      <th>Comunidades autónomas</th>\n",
       "      <th>Cantidad hospitales</th>\n",
       "      <th>Cantidad camas</th>\n",
       "      <th>Camas por habitantes</th>\n",
       "    </tr>\n",
       "  </thead>\n",
       "  <tbody>\n",
       "    <tr>\n",
       "      <th>0</th>\n",
       "      <td>Andalucía</td>\n",
       "      <td>50</td>\n",
       "      <td>14.407</td>\n",
       "      <td>1.7</td>\n",
       "    </tr>\n",
       "    <tr>\n",
       "      <th>1</th>\n",
       "      <td>Aragón</td>\n",
       "      <td>20</td>\n",
       "      <td>4.091</td>\n",
       "      <td>3.4</td>\n",
       "    </tr>\n",
       "    <tr>\n",
       "      <th>2</th>\n",
       "      <td>Asturias, Principado</td>\n",
       "      <td>12</td>\n",
       "      <td>3.053</td>\n",
       "      <td>3.2</td>\n",
       "    </tr>\n",
       "    <tr>\n",
       "      <th>3</th>\n",
       "      <td>Balears, Illes</td>\n",
       "      <td>11</td>\n",
       "      <td>2.251</td>\n",
       "      <td>2.2</td>\n",
       "    </tr>\n",
       "    <tr>\n",
       "      <th>4</th>\n",
       "      <td>Canarias</td>\n",
       "      <td>12</td>\n",
       "      <td>4.326</td>\n",
       "      <td>2.1</td>\n",
       "    </tr>\n",
       "    <tr>\n",
       "      <th>5</th>\n",
       "      <td>Cantabria</td>\n",
       "      <td>5</td>\n",
       "      <td>1.502</td>\n",
       "      <td>2.7</td>\n",
       "    </tr>\n",
       "    <tr>\n",
       "      <th>6</th>\n",
       "      <td>Castilla y León</td>\n",
       "      <td>16</td>\n",
       "      <td>6.649</td>\n",
       "      <td>3.1</td>\n",
       "    </tr>\n",
       "    <tr>\n",
       "      <th>7</th>\n",
       "      <td>Castilla-La Mancha</td>\n",
       "      <td>20</td>\n",
       "      <td>4.497</td>\n",
       "      <td>2.5</td>\n",
       "    </tr>\n",
       "    <tr>\n",
       "      <th>8</th>\n",
       "      <td>Cataluña</td>\n",
       "      <td>157</td>\n",
       "      <td>26.199</td>\n",
       "      <td>3.7</td>\n",
       "    </tr>\n",
       "    <tr>\n",
       "      <th>9</th>\n",
       "      <td>Comunitat Valenciana</td>\n",
       "      <td>39</td>\n",
       "      <td>10.430</td>\n",
       "      <td>2.3</td>\n",
       "    </tr>\n",
       "    <tr>\n",
       "      <th>10</th>\n",
       "      <td>Extremadura</td>\n",
       "      <td>12</td>\n",
       "      <td>3.508</td>\n",
       "      <td>3.5</td>\n",
       "    </tr>\n",
       "    <tr>\n",
       "      <th>11</th>\n",
       "      <td>Galicia</td>\n",
       "      <td>19</td>\n",
       "      <td>7.653</td>\n",
       "      <td>3.2</td>\n",
       "    </tr>\n",
       "    <tr>\n",
       "      <th>12</th>\n",
       "      <td>Madrid, Comunidad de</td>\n",
       "      <td>37</td>\n",
       "      <td>12.578</td>\n",
       "      <td>2.1</td>\n",
       "    </tr>\n",
       "    <tr>\n",
       "      <th>13</th>\n",
       "      <td>Murcia, Región de</td>\n",
       "      <td>16</td>\n",
       "      <td>3.503</td>\n",
       "      <td>2.5</td>\n",
       "    </tr>\n",
       "    <tr>\n",
       "      <th>14</th>\n",
       "      <td>Navarra, C. Foral de</td>\n",
       "      <td>6</td>\n",
       "      <td>1.595</td>\n",
       "      <td>2.7</td>\n",
       "    </tr>\n",
       "    <tr>\n",
       "      <th>15</th>\n",
       "      <td>País Vasco</td>\n",
       "      <td>26</td>\n",
       "      <td>6.042</td>\n",
       "      <td>3.1</td>\n",
       "    </tr>\n",
       "    <tr>\n",
       "      <th>16</th>\n",
       "      <td>Rioja, La</td>\n",
       "      <td>6</td>\n",
       "      <td>991.000</td>\n",
       "      <td>3.2</td>\n",
       "    </tr>\n",
       "    <tr>\n",
       "      <th>17</th>\n",
       "      <td>Ceuta y Melilla</td>\n",
       "      <td>2</td>\n",
       "      <td>341.000</td>\n",
       "      <td>2.5</td>\n",
       "    </tr>\n",
       "  </tbody>\n",
       "</table>\n",
       "</div>"
      ],
      "text/plain": [
       "   Comunidades autónomas  Cantidad hospitales  Cantidad camas  \\\n",
       "0              Andalucía                   50          14.407   \n",
       "1                 Aragón                   20           4.091   \n",
       "2   Asturias, Principado                   12           3.053   \n",
       "3         Balears, Illes                   11           2.251   \n",
       "4               Canarias                   12           4.326   \n",
       "5              Cantabria                    5           1.502   \n",
       "6        Castilla y León                   16           6.649   \n",
       "7     Castilla-La Mancha                   20           4.497   \n",
       "8               Cataluña                  157          26.199   \n",
       "9   Comunitat Valenciana                   39          10.430   \n",
       "10           Extremadura                   12           3.508   \n",
       "11               Galicia                   19           7.653   \n",
       "12  Madrid, Comunidad de                   37          12.578   \n",
       "13     Murcia, Región de                   16           3.503   \n",
       "14  Navarra, C. Foral de                    6           1.595   \n",
       "15            País Vasco                   26           6.042   \n",
       "16             Rioja, La                    6         991.000   \n",
       "17       Ceuta y Melilla                    2         341.000   \n",
       "\n",
       "    Camas por habitantes  \n",
       "0                    1.7  \n",
       "1                    3.4  \n",
       "2                    3.2  \n",
       "3                    2.2  \n",
       "4                    2.1  \n",
       "5                    2.7  \n",
       "6                    3.1  \n",
       "7                    2.5  \n",
       "8                    3.7  \n",
       "9                    2.3  \n",
       "10                   3.5  \n",
       "11                   3.2  \n",
       "12                   2.1  \n",
       "13                   2.5  \n",
       "14                   2.7  \n",
       "15                   3.1  \n",
       "16                   3.2  \n",
       "17                   2.5  "
      ]
     },
     "execution_count": 17,
     "metadata": {},
     "output_type": "execute_result"
    }
   ],
   "source": [
    "df"
   ]
  },
  {
   "cell_type": "code",
   "execution_count": 18,
   "metadata": {},
   "outputs": [],
   "source": [
    "df.to_csv(\"Data/data_camas.csv\",index=False) # Guardo DataFrame en un archivo CSV"
   ]
  },
  {
   "cell_type": "code",
   "execution_count": null,
   "metadata": {},
   "outputs": [],
   "source": []
  },
  {
   "cell_type": "code",
   "execution_count": null,
   "metadata": {},
   "outputs": [],
   "source": []
  },
  {
   "cell_type": "code",
   "execution_count": 19,
   "metadata": {},
   "outputs": [],
   "source": [
    "df2 = pd.read_csv(\"Data/Densidad_poblacion.csv\", sep = \"\\t\", encoding=\"latin-1\")"
   ]
  },
  {
   "cell_type": "code",
   "execution_count": 20,
   "metadata": {},
   "outputs": [
    {
     "data": {
      "text/html": [
       "<div>\n",
       "<style scoped>\n",
       "    .dataframe tbody tr th:only-of-type {\n",
       "        vertical-align: middle;\n",
       "    }\n",
       "\n",
       "    .dataframe tbody tr th {\n",
       "        vertical-align: top;\n",
       "    }\n",
       "\n",
       "    .dataframe thead th {\n",
       "        text-align: right;\n",
       "    }\n",
       "</style>\n",
       "<table border=\"1\" class=\"dataframe\">\n",
       "  <thead>\n",
       "    <tr style=\"text-align: right;\">\n",
       "      <th></th>\n",
       "      <th>Comunidades y Ciudades AutÃ³nomas,TamaÃ±o de los municipios,Periodo,Total</th>\n",
       "    </tr>\n",
       "  </thead>\n",
       "  <tbody>\n",
       "    <tr>\n",
       "      <th>0</th>\n",
       "      <td>01 AndalucÃ­a,Total,2021,8472407</td>\n",
       "    </tr>\n",
       "    <tr>\n",
       "      <th>1</th>\n",
       "      <td>09 CataluÃ±a,Total,2021,7763362</td>\n",
       "    </tr>\n",
       "    <tr>\n",
       "      <th>2</th>\n",
       "      <td>13 Madrid, Comunidad de,Total,2021,6751251</td>\n",
       "    </tr>\n",
       "    <tr>\n",
       "      <th>3</th>\n",
       "      <td>10 Comunitat Valenciana,Total,2021,5058138</td>\n",
       "    </tr>\n",
       "    <tr>\n",
       "      <th>4</th>\n",
       "      <td>12 Galicia,Total,2021,2695645</td>\n",
       "    </tr>\n",
       "    <tr>\n",
       "      <th>5</th>\n",
       "      <td>07 Castilla y LeÃ³n,Total,2021,2383139</td>\n",
       "    </tr>\n",
       "    <tr>\n",
       "      <th>6</th>\n",
       "      <td>16 PaÃ­s Vasco,Total,2021,2213993</td>\n",
       "    </tr>\n",
       "    <tr>\n",
       "      <th>7</th>\n",
       "      <td>05 Canarias,Total,2021,2172944</td>\n",
       "    </tr>\n",
       "    <tr>\n",
       "      <th>8</th>\n",
       "      <td>08 Castilla - La Mancha,Total,2021,2049562</td>\n",
       "    </tr>\n",
       "    <tr>\n",
       "      <th>9</th>\n",
       "      <td>14 Murcia, RegiÃ³n de,Total,2021,1518486</td>\n",
       "    </tr>\n",
       "    <tr>\n",
       "      <th>10</th>\n",
       "      <td>02 AragÃ³n,Total,2021,1326261</td>\n",
       "    </tr>\n",
       "    <tr>\n",
       "      <th>11</th>\n",
       "      <td>04 Balears, Illes,Total,2021,1173008</td>\n",
       "    </tr>\n",
       "    <tr>\n",
       "      <th>12</th>\n",
       "      <td>11 Extremadura,Total,2021,1059501</td>\n",
       "    </tr>\n",
       "    <tr>\n",
       "      <th>13</th>\n",
       "      <td>03 Asturias, Principado de,Total,2021,1011792</td>\n",
       "    </tr>\n",
       "    <tr>\n",
       "      <th>14</th>\n",
       "      <td>15 Navarra, Comunidad Foral de,Total,2021,661537</td>\n",
       "    </tr>\n",
       "    <tr>\n",
       "      <th>15</th>\n",
       "      <td>06 Cantabria,Total,2021,584507</td>\n",
       "    </tr>\n",
       "    <tr>\n",
       "      <th>16</th>\n",
       "      <td>17 Rioja, La,Total,2021,319796</td>\n",
       "    </tr>\n",
       "    <tr>\n",
       "      <th>17</th>\n",
       "      <td>19 Melilla,Total,2021,86261</td>\n",
       "    </tr>\n",
       "    <tr>\n",
       "      <th>18</th>\n",
       "      <td>18 Ceuta,Total,2021,83517</td>\n",
       "    </tr>\n",
       "  </tbody>\n",
       "</table>\n",
       "</div>"
      ],
      "text/plain": [
       "   Comunidades y Ciudades AutÃ³nomas,TamaÃ±o de los municipios,Periodo,Total\n",
       "0                    01 AndalucÃ­a,Total,2021,8472407                       \n",
       "1                     09 CataluÃ±a,Total,2021,7763362                       \n",
       "2          13 Madrid, Comunidad de,Total,2021,6751251                       \n",
       "3          10 Comunitat Valenciana,Total,2021,5058138                       \n",
       "4                       12 Galicia,Total,2021,2695645                       \n",
       "5              07 Castilla y LeÃ³n,Total,2021,2383139                       \n",
       "6                   16 PaÃ­s Vasco,Total,2021,2213993                       \n",
       "7                      05 Canarias,Total,2021,2172944                       \n",
       "8          08 Castilla - La Mancha,Total,2021,2049562                       \n",
       "9            14 Murcia, RegiÃ³n de,Total,2021,1518486                       \n",
       "10                      02 AragÃ³n,Total,2021,1326261                       \n",
       "11               04 Balears, Illes,Total,2021,1173008                       \n",
       "12                  11 Extremadura,Total,2021,1059501                       \n",
       "13      03 Asturias, Principado de,Total,2021,1011792                       \n",
       "14   15 Navarra, Comunidad Foral de,Total,2021,661537                       \n",
       "15                     06 Cantabria,Total,2021,584507                       \n",
       "16                     17 Rioja, La,Total,2021,319796                       \n",
       "17                        19 Melilla,Total,2021,86261                       \n",
       "18                          18 Ceuta,Total,2021,83517                       "
      ]
     },
     "execution_count": 20,
     "metadata": {},
     "output_type": "execute_result"
    }
   ],
   "source": [
    "df2"
   ]
  },
  {
   "cell_type": "code",
   "execution_count": 21,
   "metadata": {},
   "outputs": [
    {
     "ename": "KeyError",
     "evalue": "'Total'",
     "output_type": "error",
     "traceback": [
      "\u001b[0;31m---------------------------------------------------------------------------\u001b[0m",
      "\u001b[0;31mKeyError\u001b[0m                                  Traceback (most recent call last)",
      "File \u001b[0;32m~/opt/anaconda3/lib/python3.9/site-packages/pandas/core/indexes/base.py:3621\u001b[0m, in \u001b[0;36mIndex.get_loc\u001b[0;34m(self, key, method, tolerance)\u001b[0m\n\u001b[1;32m   3620\u001b[0m \u001b[39mtry\u001b[39;00m:\n\u001b[0;32m-> 3621\u001b[0m     \u001b[39mreturn\u001b[39;00m \u001b[39mself\u001b[39;49m\u001b[39m.\u001b[39;49m_engine\u001b[39m.\u001b[39;49mget_loc(casted_key)\n\u001b[1;32m   3622\u001b[0m \u001b[39mexcept\u001b[39;00m \u001b[39mKeyError\u001b[39;00m \u001b[39mas\u001b[39;00m err:\n",
      "File \u001b[0;32m~/opt/anaconda3/lib/python3.9/site-packages/pandas/_libs/index.pyx:136\u001b[0m, in \u001b[0;36mpandas._libs.index.IndexEngine.get_loc\u001b[0;34m()\u001b[0m\n",
      "File \u001b[0;32m~/opt/anaconda3/lib/python3.9/site-packages/pandas/_libs/index.pyx:163\u001b[0m, in \u001b[0;36mpandas._libs.index.IndexEngine.get_loc\u001b[0;34m()\u001b[0m\n",
      "File \u001b[0;32mpandas/_libs/hashtable_class_helper.pxi:5198\u001b[0m, in \u001b[0;36mpandas._libs.hashtable.PyObjectHashTable.get_item\u001b[0;34m()\u001b[0m\n",
      "File \u001b[0;32mpandas/_libs/hashtable_class_helper.pxi:5206\u001b[0m, in \u001b[0;36mpandas._libs.hashtable.PyObjectHashTable.get_item\u001b[0;34m()\u001b[0m\n",
      "\u001b[0;31mKeyError\u001b[0m: 'Total'",
      "\nThe above exception was the direct cause of the following exception:\n",
      "\u001b[0;31mKeyError\u001b[0m                                  Traceback (most recent call last)",
      "\u001b[1;32m/Users/victornebon/Desktop/Mi repositorio/Proyecto/Sanidad_eda.ipynb Celda 35\u001b[0m in \u001b[0;36m<cell line: 1>\u001b[0;34m()\u001b[0m\n\u001b[0;32m----> <a href='vscode-notebook-cell:/Users/victornebon/Desktop/Mi%20repositorio/Proyecto/Sanidad_eda.ipynb#X46sZmlsZQ%3D%3D?line=0'>1</a>\u001b[0m df2[\u001b[39m\"\u001b[39m\u001b[39mTotal\u001b[39m\u001b[39m\"\u001b[39m] \u001b[39m=\u001b[39m df2[\u001b[39m\"\u001b[39;49m\u001b[39mTotal\u001b[39;49m\u001b[39m\"\u001b[39;49m]\u001b[39m.\u001b[39mstr\u001b[39m.\u001b[39mreplace(\u001b[39m\"\u001b[39m\u001b[39m.\u001b[39m\u001b[39m\"\u001b[39m,\u001b[39m\"\u001b[39m\u001b[39m\"\u001b[39m)\u001b[39m.\u001b[39mastype(\u001b[39mint\u001b[39m)\n",
      "File \u001b[0;32m~/opt/anaconda3/lib/python3.9/site-packages/pandas/core/frame.py:3505\u001b[0m, in \u001b[0;36mDataFrame.__getitem__\u001b[0;34m(self, key)\u001b[0m\n\u001b[1;32m   3503\u001b[0m \u001b[39mif\u001b[39;00m \u001b[39mself\u001b[39m\u001b[39m.\u001b[39mcolumns\u001b[39m.\u001b[39mnlevels \u001b[39m>\u001b[39m \u001b[39m1\u001b[39m:\n\u001b[1;32m   3504\u001b[0m     \u001b[39mreturn\u001b[39;00m \u001b[39mself\u001b[39m\u001b[39m.\u001b[39m_getitem_multilevel(key)\n\u001b[0;32m-> 3505\u001b[0m indexer \u001b[39m=\u001b[39m \u001b[39mself\u001b[39;49m\u001b[39m.\u001b[39;49mcolumns\u001b[39m.\u001b[39;49mget_loc(key)\n\u001b[1;32m   3506\u001b[0m \u001b[39mif\u001b[39;00m is_integer(indexer):\n\u001b[1;32m   3507\u001b[0m     indexer \u001b[39m=\u001b[39m [indexer]\n",
      "File \u001b[0;32m~/opt/anaconda3/lib/python3.9/site-packages/pandas/core/indexes/base.py:3623\u001b[0m, in \u001b[0;36mIndex.get_loc\u001b[0;34m(self, key, method, tolerance)\u001b[0m\n\u001b[1;32m   3621\u001b[0m     \u001b[39mreturn\u001b[39;00m \u001b[39mself\u001b[39m\u001b[39m.\u001b[39m_engine\u001b[39m.\u001b[39mget_loc(casted_key)\n\u001b[1;32m   3622\u001b[0m \u001b[39mexcept\u001b[39;00m \u001b[39mKeyError\u001b[39;00m \u001b[39mas\u001b[39;00m err:\n\u001b[0;32m-> 3623\u001b[0m     \u001b[39mraise\u001b[39;00m \u001b[39mKeyError\u001b[39;00m(key) \u001b[39mfrom\u001b[39;00m \u001b[39merr\u001b[39;00m\n\u001b[1;32m   3624\u001b[0m \u001b[39mexcept\u001b[39;00m \u001b[39mTypeError\u001b[39;00m:\n\u001b[1;32m   3625\u001b[0m     \u001b[39m# If we have a listlike key, _check_indexing_error will raise\u001b[39;00m\n\u001b[1;32m   3626\u001b[0m     \u001b[39m#  InvalidIndexError. Otherwise we fall through and re-raise\u001b[39;00m\n\u001b[1;32m   3627\u001b[0m     \u001b[39m#  the TypeError.\u001b[39;00m\n\u001b[1;32m   3628\u001b[0m     \u001b[39mself\u001b[39m\u001b[39m.\u001b[39m_check_indexing_error(key)\n",
      "\u001b[0;31mKeyError\u001b[0m: 'Total'"
     ]
    }
   ],
   "source": [
    "df2[\"Total\"] = df2[\"Total\"].str.replace(\".\",\"\").astype(int) # transformar las comas en puntos, y cambiar el tipo de dato de str a int"
   ]
  },
  {
   "cell_type": "code",
   "execution_count": null,
   "metadata": {},
   "outputs": [],
   "source": [
    "df2 = df2.iloc[1:,:] # quitamos la fila de Total"
   ]
  },
  {
   "cell_type": "code",
   "execution_count": null,
   "metadata": {},
   "outputs": [],
   "source": [
    "df2 = df2.sort_values(by= \"Total\",ascending = False)"
   ]
  },
  {
   "cell_type": "code",
   "execution_count": null,
   "metadata": {},
   "outputs": [],
   "source": [
    "#df2.to_csv(\"Data/Densidad_poblacion.csv\", index=False)"
   ]
  },
  {
   "cell_type": "code",
   "execution_count": null,
   "metadata": {},
   "outputs": [
    {
     "data": {
      "image/png": "[encoded data removed]",
      "text/plain": [
       "<Figure size 864x576 with 1 Axes>"
      ]
     },
     "metadata": {
      "needs_background": "light"
     },
     "output_type": "display_data"
    }
   ],
   "source": [
    "plt.figure(figsize=(12,8))\n",
    "plt.bar(df2[\"Comunidades y Ciudades Autónomas\"], df2[\"Total\"])\n",
    "plt.title(\"Densidad Población\")\n",
    "plt.xticks(rotation = 90);"
   ]
  },
  {
   "cell_type": "code",
   "execution_count": null,
   "metadata": {},
   "outputs": [],
   "source": []
  },
  {
   "cell_type": "code",
   "execution_count": null,
   "metadata": {},
   "outputs": [],
   "source": []
  },
  {
   "cell_type": "code",
   "execution_count": null,
   "metadata": {},
   "outputs": [],
   "source": []
  },
  {
   "cell_type": "code",
   "execution_count": null,
   "metadata": {},
   "outputs": [],
   "source": []
  }
 ],
 "metadata": {
  "kernelspec": {
   "display_name": "Python 3.9.12 ('base')",
   "language": "python",
   "name": "python3"
  },
  "language_info": {
   "codemirror_mode": {
    "name": "ipython",
    "version": 3
   },
   "file_extension": ".py",
   "mimetype": "text/x-python",
   "name": "python",
   "nbconvert_exporter": "python",
   "pygments_lexer": "ipython3",
   "version": "3.9.12"
  },
  "orig_nbformat": 4,
  "vscode": {
   "interpreter": {
    "hash": "29569422ef3d6606bb57bfe6dba01f3f0bf1d23a9e7598cd071f7f47b3c2d1e7"
   }
  }
 },
 "nbformat": 4,
 "nbformat_minor": 2
}
